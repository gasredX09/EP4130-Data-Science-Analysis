{
 "cells": [
  {
   "cell_type": "code",
   "execution_count": 59,
   "metadata": {},
   "outputs": [],
   "source": [
    "from numpy import frompyfunc, arange\n",
    "from scipy.optimize import fminbound\n",
    "from scipy.special import hyp2f1, gamma, rgamma\n",
    "from scipy.integrate import quad\n",
    "from scipy.special import erfinv\n",
    "import matplotlib.pyplot as plt"
   ]
  },
  {
   "cell_type": "code",
   "execution_count": 60,
   "metadata": {},
   "outputs": [],
   "source": [
    "def bayes_factor(Non, Noff, alpha):\n",
    "    \"\"\"\n",
    "    Calculate the Bayes factor, representing the odds of background hypothesis over the signal hypothesis.\n",
    "    \"\"\"\n",
    "    Nges = Non + Noff\n",
    "    gam = (1 + 2 * Noff) * alpha**0.5 * gamma(0.5 + Nges)\n",
    "    delta = 2 * (1 + alpha)**Nges * gamma(1 + Nges) * hyp2f1(0.5 + Noff, 1 + Nges, 1.5 + Noff, -1 / alpha)\n",
    "    c1_c2 = 2 * (pi / 4) ** 0.5\n",
    "    return gam / (c1_c2 * delta)"
   ]
  },
  {
   "cell_type": "code",
   "execution_count": 61,
   "metadata": {},
   "outputs": [],
   "source": [
    "def signal_posterior(lambda_s, Non, Noff, alpha):\n",
    "    \"\"\"\n",
    "    Calculate the marginalized signal parameter posterior.\n",
    "    \"\"\"\n",
    "    n1 = Non + Noff\n",
    "    buf1 = lambda_s**n1 * rgamma(n1 + 1) * exp(-lambda_s)\n",
    "    buf2 = hyp2f1(Noff + 0.5, n1 + 1, Noff + 1.5, -1 / alpha)\n",
    "    buf3 = rgamma(Noff + 1.5)\n",
    "    return buf1 * buf2 / buf3"
   ]
  },
  {
   "cell_type": "code",
   "execution_count": 62,
   "metadata": {},
   "outputs": [],
   "source": [
    "def cumulative_distribution(lambda_s, Non, Noff, alpha):\n",
    "    \"\"\"\n",
    "    Calculate the cumulative distribution function of the signal posterior.\n",
    "    \"\"\"\n",
    "    return quad(lambda x: signal_posterior(x, Non, Noff, alpha), 0, lambda_s)"
   ]
  },
  {
   "cell_type": "code",
   "execution_count": 63,
   "metadata": {},
   "outputs": [],
   "source": [
    "def bayesian_z_value(Non, Noff, alpha):\n",
    "    \"\"\"\n",
    "    Calculate the Bayesian z-value via the Bayes factor.\n",
    "    \"\"\"\n",
    "    bayes_factor_val = bayes_factor(Non, Noff, alpha)\n",
    "    buf = 1 - bayes_factor_val\n",
    "    return (2 ** 0.5) * erfinv(max(min(buf, 1), -1))"
   ]
  },
  {
   "cell_type": "code",
   "execution_count": 64,
   "metadata": {},
   "outputs": [],
   "source": [
    "def find_local_maximum(Non, Noff, alpha):\n",
    "    \"\"\"\n",
    "    Find the local maximum of the signal posterior.\n",
    "    \"\"\"\n",
    "    sigma = (alpha ** 2 * Noff + Non) ** 0.5\n",
    "    lstar = Non - alpha * Noff\n",
    "\n",
    "    if lstar <= 0:\n",
    "        return 0\n",
    "\n",
    "    lmin = max(lstar - sigma, 1e-11)\n",
    "    lmax = lstar + sigma\n",
    "\n",
    "    res = fminbound(lambda x: -signal_posterior(x, Non, Noff, alpha), lmin, lmax)\n",
    "    return res"
   ]
  },
  {
   "cell_type": "code",
   "execution_count": 67,
   "metadata": {},
   "outputs": [],
   "source": [
    "def credible_interval(Non, Noff, alpha, percentile):\n",
    "    \"\"\"\n",
    "    Find the credible interval for a given percentile.\n",
    "    \"\"\"\n",
    "    sigma = (alpha ** 2 * Noff + Non) ** 0.5\n",
    "    lstar = Non - alpha * Noff\n",
    "\n",
    "    if percentile == 0.99:\n",
    "        lmax = lstar + 2 * sigma\n",
    "    elif percentile == 0.84:\n",
    "        lmax = lstar + sigma\n",
    "    elif percentile == 0.16:\n",
    "        lmax = lstar - sigma\n",
    "    else:\n",
    "        raise ValueError(\"Invalid percentile\")\n",
    "\n",
    "    guess = 3 + lmax if percentile == 0.99 else 1 + lmax\n",
    "    if percentile == 0.99:\n",
    "        lower_bound = lstar\n",
    "        upper_bound = lmax\n",
    "    else:\n",
    "        lower_bound = 0\n",
    "        upper_bound = lmax\n",
    "\n",
    "    b = fminbound(lambda x: -signal_posterior(x, Non, Noff, alpha), lower_bound, upper_bound, xtol=1e-8)\n",
    "    return b"
   ]
  },
  {
   "cell_type": "code",
   "execution_count": 70,
   "metadata": {},
   "outputs": [
    {
     "name": "stdout",
     "output_type": "stream",
     "text": [
      "Measurement: N_on, N_off, alpha, B_01, S_B_01, signal_estimate\n",
      "29, 34, 0.200, 1.020e+37, -inf, <33.220\n"
     ]
    },
    {
     "data": {
      "image/png": "[encoded data removed]",
      "text/plain": [
       "<Figure size 640x480 with 1 Axes>"
      ]
     },
     "metadata": {},
     "output_type": "display_data"
    }
   ],
   "source": [
    "if __name__ == \"__main__\":\n",
    "    n_on = 29\n",
    "    n_off = 34\n",
    "    alpha = 1 / 5\n",
    "\n",
    "    l_99_buf = credible_interval(n_on, n_off, alpha, 0.99)\n",
    "    significance = bayesian_z_value(n_on, n_off, alpha)\n",
    "    if significance > 3.0:\n",
    "        l_star_buf = find_local_maximum(n_on, n_off, alpha)\n",
    "        l_84_buf = credible_interval(n_on, n_off, alpha, 0.84)\n",
    "        l_16_buf = credible_interval(n_on, n_off, alpha, 0.16)\n",
    "        print(\"Measurement: N_on, N_off, alpha, B_01, S_B_01, signal_estimate\")\n",
    "        print(f\"{n_on}, {n_off}, {alpha:.3f}, {bayes_factor(n_on, n_off, alpha):.3e}, {significance:.3f}, \"\n",
    "              f\"{l_star_buf:.3f} + {l_84_buf - l_star_buf:.3f} - {l_star_buf - l_16_buf:.3f}\")\n",
    "    else:\n",
    "        print(\"Measurement: N_on, N_off, alpha, B_01, S_B_01, signal_estimate\")\n",
    "        print(f\"{n_on}, {n_off}, {alpha:.3f}, {bayes_factor(n_on, n_off, alpha):.3e}, {significance:.3f}, \"\n",
    "              f\"<{l_99_buf:.3f}\")\n",
    "\n",
    "    # Plot the PDF\n",
    "    x_range = arange(0, 2 * l_99_buf, 0.1)\n",
    "    y_range = signal_posterior(x_range, n_on, n_off, alpha)\n",
    "    plt.plot(x_range, y_range)\n",
    "    plt.show()"
   ]
  }
 ],
 "metadata": {
  "kernelspec": {
   "display_name": "Python 3",
   "language": "python",
   "name": "python3"
  },
  "language_info": {
   "codemirror_mode": {
    "name": "ipython",
    "version": 3
   },
   "file_extension": ".py",
   "mimetype": "text/x-python",
   "name": "python",
   "nbconvert_exporter": "python",
   "pygments_lexer": "ipython3",
   "version": "3.11.5"
  }
 },
 "nbformat": 4,
 "nbformat_minor": 2
}
